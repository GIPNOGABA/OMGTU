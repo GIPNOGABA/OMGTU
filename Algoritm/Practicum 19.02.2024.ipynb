{
 "cells": [
  {
   "cell_type": "code",
   "execution_count": 9,
   "metadata": {
    "dotnet_interactive": {
     "language": "csharp"
    },
    "polyglot_notebook": {
     "kernelName": "csharp"
    }
   },
   "outputs": [],
   "source": [
    "class TrapezoidalRule{\n",
    "    public static double Solve(Func<double, double> f, double a, double b, double dx){\n",
    "        double square = 0;\n",
    "        double x1 = a;\n",
    "        double x2 = a + dx;\n",
    "        if (x2 <= a + Double.Epsilon) throw new ArgumentException(\"Too small value\");\n",
    "        for(int i = 0; i < Math.Truncate(Math.Abs(b-a) / dx); i++)\n",
    "        {\n",
    "            square += ((f(x1) + f(x2)) / 2) * dx;\n",
    "            x1 += dx;\n",
    "            x2 += dx;\n",
    "        }\n",
    "        if (x2 > b) square += ((f(x1) + f(b)) / 2) * (b - x1);\n",
    "        return square;\n",
    "    }\n",
    "}"
   ]
  },
  {
   "cell_type": "code",
   "execution_count": 10,
   "metadata": {
    "dotnet_interactive": {
     "language": "csharp"
    },
    "polyglot_notebook": {
     "kernelName": "csharp"
    }
   },
   "outputs": [
    {
     "ename": "Error",
     "evalue": "System.ArgumentException: Too small value\r\n   at Submission#10.TrapezoidalRule.Solve(Func`2 f, Double a, Double b, Double dx)\r\n   at Submission#11.<<Initialize>>d__0.MoveNext()\r\n--- End of stack trace from previous location ---\r\n   at Microsoft.CodeAnalysis.Scripting.ScriptExecutionState.RunSubmissionsAsync[TResult](ImmutableArray`1 precedingExecutors, Func`2 currentExecutor, StrongBox`1 exceptionHolderOpt, Func`2 catchExceptionOpt, CancellationToken cancellationToken)",
     "output_type": "error",
     "traceback": [
      "System.ArgumentException: Too small value\r\n",
      "   at Submission#10.TrapezoidalRule.Solve(Func`2 f, Double a, Double b, Double dx)\r\n",
      "   at Submission#11.<<Initialize>>d__0.MoveNext()\r\n",
      "--- End of stack trace from previous location ---\r\n",
      "   at Microsoft.CodeAnalysis.Scripting.ScriptExecutionState.RunSubmissionsAsync[TResult](ImmutableArray`1 precedingExecutors, Func`2 currentExecutor, StrongBox`1 exceptionHolderOpt, Func`2 catchExceptionOpt, CancellationToken cancellationToken)"
     ]
    }
   ],
   "source": [
    "Func<double, double> f = (double x) => -x*x + 9;\n",
    "Console.WriteLine(TrapezoidalRule.Solve(f, 0.9999999, 1, 0.000000000000000000000001))"
   ]
  }
 ],
 "metadata": {
  "kernelspec": {
   "display_name": ".NET (C#)",
   "language": "C#",
   "name": ".net-csharp"
  },
  "language_info": {
   "name": "polyglot-notebook"
  },
  "polyglot_notebook": {
   "kernelInfo": {
    "defaultKernelName": "csharp",
    "items": [
     {
      "aliases": [],
      "languageName": "csharp",
      "name": "csharp"
     }
    ]
   }
  }
 },
 "nbformat": 4,
 "nbformat_minor": 2
}
